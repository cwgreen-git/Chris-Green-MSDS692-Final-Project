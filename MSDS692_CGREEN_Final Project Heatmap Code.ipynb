{
 "cells": [
  {
   "cell_type": "markdown",
   "metadata": {},
   "source": [
    "# MSDS692_CGREEN_Final Project Heatmap\n",
    "For the visual in this code I relied heavily on the skills learned in MSDS670."
   ]
  },
  {
   "cell_type": "code",
   "execution_count": 1,
   "metadata": {},
   "outputs": [],
   "source": [
    "import pandas as pd\n",
    "import matplotlib.pyplot as plt\n",
    "import seaborn as sns\n",
    "from sklearn.preprocessing import StandardScaler"
   ]
  },
  {
   "cell_type": "code",
   "execution_count": 2,
   "metadata": {
    "scrolled": true
   },
   "outputs": [
    {
     "data": {
      "text/html": [
       "<div>\n",
       "<style scoped>\n",
       "    .dataframe tbody tr th:only-of-type {\n",
       "        vertical-align: middle;\n",
       "    }\n",
       "\n",
       "    .dataframe tbody tr th {\n",
       "        vertical-align: top;\n",
       "    }\n",
       "\n",
       "    .dataframe thead th {\n",
       "        text-align: right;\n",
       "    }\n",
       "</style>\n",
       "<table border=\"1\" class=\"dataframe\">\n",
       "  <thead>\n",
       "    <tr style=\"text-align: right;\">\n",
       "      <th></th>\n",
       "      <th>1970</th>\n",
       "      <th>1971</th>\n",
       "      <th>1972</th>\n",
       "      <th>1973</th>\n",
       "      <th>1974</th>\n",
       "      <th>1975</th>\n",
       "      <th>1976</th>\n",
       "      <th>1977</th>\n",
       "      <th>1978</th>\n",
       "      <th>1979</th>\n",
       "      <th>...</th>\n",
       "      <th>2010</th>\n",
       "      <th>2011</th>\n",
       "      <th>2012</th>\n",
       "      <th>2013</th>\n",
       "      <th>2014</th>\n",
       "      <th>2015</th>\n",
       "      <th>2016</th>\n",
       "      <th>2017</th>\n",
       "      <th>2018</th>\n",
       "      <th>2019</th>\n",
       "    </tr>\n",
       "  </thead>\n",
       "  <tbody>\n",
       "    <tr>\n",
       "      <th>Left Wing</th>\n",
       "      <td>299</td>\n",
       "      <td>115</td>\n",
       "      <td>26</td>\n",
       "      <td>14</td>\n",
       "      <td>16</td>\n",
       "      <td>55</td>\n",
       "      <td>24</td>\n",
       "      <td>46</td>\n",
       "      <td>6</td>\n",
       "      <td>2</td>\n",
       "      <td>...</td>\n",
       "      <td>0</td>\n",
       "      <td>0</td>\n",
       "      <td>0</td>\n",
       "      <td>3</td>\n",
       "      <td>2</td>\n",
       "      <td>1</td>\n",
       "      <td>6</td>\n",
       "      <td>4</td>\n",
       "      <td>2</td>\n",
       "      <td>4</td>\n",
       "    </tr>\n",
       "    <tr>\n",
       "      <th>Religious</th>\n",
       "      <td>0</td>\n",
       "      <td>1</td>\n",
       "      <td>0</td>\n",
       "      <td>3</td>\n",
       "      <td>2</td>\n",
       "      <td>0</td>\n",
       "      <td>0</td>\n",
       "      <td>3</td>\n",
       "      <td>0</td>\n",
       "      <td>0</td>\n",
       "      <td>...</td>\n",
       "      <td>6</td>\n",
       "      <td>0</td>\n",
       "      <td>1</td>\n",
       "      <td>4</td>\n",
       "      <td>5</td>\n",
       "      <td>6</td>\n",
       "      <td>12</td>\n",
       "      <td>5</td>\n",
       "      <td>5</td>\n",
       "      <td>3</td>\n",
       "    </tr>\n",
       "    <tr>\n",
       "      <th>Right Wing</th>\n",
       "      <td>36</td>\n",
       "      <td>12</td>\n",
       "      <td>3</td>\n",
       "      <td>2</td>\n",
       "      <td>3</td>\n",
       "      <td>4</td>\n",
       "      <td>3</td>\n",
       "      <td>2</td>\n",
       "      <td>3</td>\n",
       "      <td>5</td>\n",
       "      <td>...</td>\n",
       "      <td>2</td>\n",
       "      <td>1</td>\n",
       "      <td>12</td>\n",
       "      <td>5</td>\n",
       "      <td>15</td>\n",
       "      <td>12</td>\n",
       "      <td>14</td>\n",
       "      <td>33</td>\n",
       "      <td>34</td>\n",
       "      <td>30</td>\n",
       "    </tr>\n",
       "  </tbody>\n",
       "</table>\n",
       "<p>3 rows × 50 columns</p>\n",
       "</div>"
      ],
      "text/plain": [
       "            1970  1971  1972  1973  1974  1975  1976  1977  1978  1979  ...  \\\n",
       "Left Wing    299   115    26    14    16    55    24    46     6     2  ...   \n",
       "Religious      0     1     0     3     2     0     0     3     0     0  ...   \n",
       "Right Wing    36    12     3     2     3     4     3     2     3     5  ...   \n",
       "\n",
       "            2010  2011  2012  2013  2014  2015  2016  2017  2018  2019  \n",
       "Left Wing      0     0     0     3     2     1     6     4     2     4  \n",
       "Religious      6     0     1     4     5     6    12     5     5     3  \n",
       "Right Wing     2     1    12     5    15    12    14    33    34    30  \n",
       "\n",
       "[3 rows x 50 columns]"
      ]
     },
     "execution_count": 2,
     "metadata": {},
     "output_type": "execute_result"
    }
   ],
   "source": [
    "df = pd.read_csv('20220227 Heatmap Data.csv', index_col=0)\n",
    "df"
   ]
  },
  {
   "cell_type": "code",
   "execution_count": 3,
   "metadata": {},
   "outputs": [
    {
     "data": {
      "text/plain": [
       "<AxesSubplot:>"
      ]
     },
     "execution_count": 3,
     "metadata": {},
     "output_type": "execute_result"
    },
    {
     "data": {
      "image/png": "[encoded data removed]",
      "text/plain": [
       "<Figure size 1440x216 with 2 Axes>"
      ]
     },
     "metadata": {},
     "output_type": "display_data"
    }
   ],
   "source": [
    "sns.set(rc = {'figure.figsize':(20,3)})\n",
    "sns.heatmap(df, cmap='Reds',xticklabels=1, yticklabels=1, robust=True, linewidth=1.5, cbar_kws={'shrink': 1})"
   ]
  },
  {
   "cell_type": "markdown",
   "metadata": {},
   "source": [
    "### Scaling the data to get a better color spread\n",
    "The initial heat map washed out much of the data because of the large number of extreme left wing incidents in the early 1970's. To correct for this, I used the standard scaler method from MSDS650 and referred to the 2021 Geeks for Geeks overview of scaling to adjust the data. "
   ]
  },
  {
   "cell_type": "code",
   "execution_count": 4,
   "metadata": {},
   "outputs": [
    {
     "data": {
      "text/html": [
       "<div>\n",
       "<style scoped>\n",
       "    .dataframe tbody tr th:only-of-type {\n",
       "        vertical-align: middle;\n",
       "    }\n",
       "\n",
       "    .dataframe tbody tr th {\n",
       "        vertical-align: top;\n",
       "    }\n",
       "\n",
       "    .dataframe thead th {\n",
       "        text-align: right;\n",
       "    }\n",
       "</style>\n",
       "<table border=\"1\" class=\"dataframe\">\n",
       "  <thead>\n",
       "    <tr style=\"text-align: right;\">\n",
       "      <th></th>\n",
       "      <th>1970</th>\n",
       "      <th>1971</th>\n",
       "      <th>1972</th>\n",
       "      <th>1973</th>\n",
       "      <th>1974</th>\n",
       "      <th>1975</th>\n",
       "      <th>1976</th>\n",
       "      <th>1977</th>\n",
       "      <th>1978</th>\n",
       "      <th>1979</th>\n",
       "      <th>...</th>\n",
       "      <th>2010</th>\n",
       "      <th>2011</th>\n",
       "      <th>2012</th>\n",
       "      <th>2013</th>\n",
       "      <th>2014</th>\n",
       "      <th>2015</th>\n",
       "      <th>2016</th>\n",
       "      <th>2017</th>\n",
       "      <th>2018</th>\n",
       "      <th>2019</th>\n",
       "    </tr>\n",
       "  </thead>\n",
       "  <tbody>\n",
       "    <tr>\n",
       "      <th>0</th>\n",
       "      <td>1.405589</td>\n",
       "      <td>1.408794</td>\n",
       "      <td>1.406328</td>\n",
       "      <td>1.410220</td>\n",
       "      <td>1.411313</td>\n",
       "      <td>1.411202</td>\n",
       "      <td>1.404879</td>\n",
       "      <td>1.413933</td>\n",
       "      <td>1.224745</td>\n",
       "      <td>-0.162221</td>\n",
       "      <td>...</td>\n",
       "      <td>-1.069045</td>\n",
       "      <td>-0.707107</td>\n",
       "      <td>-0.797081</td>\n",
       "      <td>-1.224745</td>\n",
       "      <td>-0.959616</td>\n",
       "      <td>-1.185999</td>\n",
       "      <td>-1.372813</td>\n",
       "      <td>-0.743980</td>\n",
       "      <td>-0.808506</td>\n",
       "      <td>-0.666726</td>\n",
       "    </tr>\n",
       "    <tr>\n",
       "      <th>1</th>\n",
       "      <td>-0.837851</td>\n",
       "      <td>-0.811517</td>\n",
       "      <td>-0.832317</td>\n",
       "      <td>-0.613139</td>\n",
       "      <td>-0.784063</td>\n",
       "      <td>-0.785481</td>\n",
       "      <td>-0.842927</td>\n",
       "      <td>-0.682589</td>\n",
       "      <td>-1.224745</td>\n",
       "      <td>-1.135550</td>\n",
       "      <td>...</td>\n",
       "      <td>1.336306</td>\n",
       "      <td>-0.707107</td>\n",
       "      <td>-0.613139</td>\n",
       "      <td>0.000000</td>\n",
       "      <td>-0.419832</td>\n",
       "      <td>-0.074125</td>\n",
       "      <td>0.392232</td>\n",
       "      <td>-0.669582</td>\n",
       "      <td>-0.600604</td>\n",
       "      <td>-0.746733</td>\n",
       "    </tr>\n",
       "    <tr>\n",
       "      <th>2</th>\n",
       "      <td>-0.567738</td>\n",
       "      <td>-0.597277</td>\n",
       "      <td>-0.574012</td>\n",
       "      <td>-0.797081</td>\n",
       "      <td>-0.627250</td>\n",
       "      <td>-0.625722</td>\n",
       "      <td>-0.561951</td>\n",
       "      <td>-0.731345</td>\n",
       "      <td>0.000000</td>\n",
       "      <td>1.297771</td>\n",
       "      <td>...</td>\n",
       "      <td>-0.267261</td>\n",
       "      <td>1.414214</td>\n",
       "      <td>1.410220</td>\n",
       "      <td>1.224745</td>\n",
       "      <td>1.379448</td>\n",
       "      <td>1.260124</td>\n",
       "      <td>0.980581</td>\n",
       "      <td>1.413561</td>\n",
       "      <td>1.409110</td>\n",
       "      <td>1.413459</td>\n",
       "    </tr>\n",
       "  </tbody>\n",
       "</table>\n",
       "<p>3 rows × 50 columns</p>\n",
       "</div>"
      ],
      "text/plain": [
       "       1970      1971      1972      1973      1974      1975      1976  \\\n",
       "0  1.405589  1.408794  1.406328  1.410220  1.411313  1.411202  1.404879   \n",
       "1 -0.837851 -0.811517 -0.832317 -0.613139 -0.784063 -0.785481 -0.842927   \n",
       "2 -0.567738 -0.597277 -0.574012 -0.797081 -0.627250 -0.625722 -0.561951   \n",
       "\n",
       "       1977      1978      1979  ...      2010      2011      2012      2013  \\\n",
       "0  1.413933  1.224745 -0.162221  ... -1.069045 -0.707107 -0.797081 -1.224745   \n",
       "1 -0.682589 -1.224745 -1.135550  ...  1.336306 -0.707107 -0.613139  0.000000   \n",
       "2 -0.731345  0.000000  1.297771  ... -0.267261  1.414214  1.410220  1.224745   \n",
       "\n",
       "       2014      2015      2016      2017      2018      2019  \n",
       "0 -0.959616 -1.185999 -1.372813 -0.743980 -0.808506 -0.666726  \n",
       "1 -0.419832 -0.074125  0.392232 -0.669582 -0.600604 -0.746733  \n",
       "2  1.379448  1.260124  0.980581  1.413561  1.409110  1.413459  \n",
       "\n",
       "[3 rows x 50 columns]"
      ]
     },
     "execution_count": 4,
     "metadata": {},
     "output_type": "execute_result"
    }
   ],
   "source": [
    "std_scaler = StandardScaler()\n",
    "df_scaled = std_scaler.fit_transform(df.to_numpy())\n",
    "df_scaled = pd.DataFrame(df_scaled, columns=['1970','1971','1972','1973','1974','1975','1976','1977','1978','1979','1980','1981','1982','1983','1984','1985','1986','1987','1988','1989','1990','1991','1992','1993','1994','1995','1996','1997','1998','1999','2000','2001','2002','2003','2004','2005','2006','2007','2008','2009','2010','2011','2012','2013','2014','2015','2016','2017','2018','2019'])\n",
    "df_scaled.head()"
   ]
  },
  {
   "cell_type": "code",
   "execution_count": 10,
   "metadata": {},
   "outputs": [
    {
     "data": {
      "image/png": "[encoded data removed]",
      "text/plain": [
       "<Figure size 1440x216 with 2 Axes>"
      ]
     },
     "metadata": {},
     "output_type": "display_data"
    }
   ],
   "source": [
    "sns.set(rc = {'figure.figsize':(20,3)})\n",
    "sns.heatmap(df_scaled, cmap='Reds',xticklabels=1, yticklabels=1, robust=True, linewidth=1.5, cbar_kws={'shrink': 1})\n",
    "plt.savefig('Ideology Waves Heatmap.png', dpi=450, bbox_inches='tight')"
   ]
  },
  {
   "cell_type": "code",
   "execution_count": null,
   "metadata": {},
   "outputs": [],
   "source": []
  }
 ],
 "metadata": {
  "kernelspec": {
   "display_name": "Python 3",
   "language": "python",
   "name": "python3"
  },
  "language_info": {
   "codemirror_mode": {
    "name": "ipython",
    "version": 3
   },
   "file_extension": ".py",
   "mimetype": "text/x-python",
   "name": "python",
   "nbconvert_exporter": "python",
   "pygments_lexer": "ipython3",
   "version": "3.8.5"
  }
 },
 "nbformat": 4,
 "nbformat_minor": 4
}
